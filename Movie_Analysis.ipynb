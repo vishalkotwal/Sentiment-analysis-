{
  "nbformat": 4,
  "nbformat_minor": 0,
  "metadata": {
    "colab": {
      "name": "Movie_Analysis.ipynb",
      "provenance": [],
      "authorship_tag": "ABX9TyPGwJs2nFhnKcQlaPTh/dB2",
      "include_colab_link": true
    },
    "kernelspec": {
      "name": "python3",
      "display_name": "Python 3"
    }
  },
  "cells": [
    {
      "cell_type": "markdown",
      "metadata": {
        "id": "view-in-github",
        "colab_type": "text"
      },
      "source": [
        "<a href=\"https://colab.research.google.com/github/vishalkotwal/Sentiment-analysis-/blob/master/Movie_Analysis.ipynb\" target=\"_parent\"><img src=\"https://colab.research.google.com/assets/colab-badge.svg\" alt=\"Open In Colab\"/></a>"
      ]
    },
    {
      "cell_type": "code",
      "metadata": {
        "id": "tdIm06ECDrJy",
        "colab_type": "code",
        "colab": {}
      },
      "source": [
        "import pandas as pd\n",
        "import seaborn as sns"
      ],
      "execution_count": 6,
      "outputs": []
    },
    {
      "cell_type": "code",
      "metadata": {
        "id": "9K15Q4rSNzVI",
        "colab_type": "code",
        "colab": {}
      },
      "source": [
        "df = pd.read_excel(\"moviereviews.xlsx\")"
      ],
      "execution_count": 45,
      "outputs": []
    },
    {
      "cell_type": "markdown",
      "metadata": {
        "id": "FmaGUw2oIUrs",
        "colab_type": "text"
      },
      "source": [
        "#Movie review dataset"
      ]
    },
    {
      "cell_type": "markdown",
      "metadata": {
        "id": "LHmuJy5SNto_",
        "colab_type": "text"
      },
      "source": [
        ""
      ]
    },
    {
      "cell_type": "code",
      "metadata": {
        "id": "j75ggqGLHahS",
        "colab_type": "code",
        "colab": {
          "base_uri": "https://localhost:8080/",
          "height": 416
        },
        "outputId": "cd05825f-29d5-4aed-a593-6a9b6c6e1350"
      },
      "source": [
        "df"
      ],
      "execution_count": 46,
      "outputs": [
        {
          "output_type": "execute_result",
          "data": {
            "text/html": [
              "<div>\n",
              "<style scoped>\n",
              "    .dataframe tbody tr th:only-of-type {\n",
              "        vertical-align: middle;\n",
              "    }\n",
              "\n",
              "    .dataframe tbody tr th {\n",
              "        vertical-align: top;\n",
              "    }\n",
              "\n",
              "    .dataframe thead th {\n",
              "        text-align: right;\n",
              "    }\n",
              "</style>\n",
              "<table border=\"1\" class=\"dataframe\">\n",
              "  <thead>\n",
              "    <tr style=\"text-align: right;\">\n",
              "      <th></th>\n",
              "      <th>review</th>\n",
              "      <th>sentiment</th>\n",
              "    </tr>\n",
              "  </thead>\n",
              "  <tbody>\n",
              "    <tr>\n",
              "      <th>0</th>\n",
              "      <td>One of the other reviewers has mentioned that ...</td>\n",
              "      <td>positive</td>\n",
              "    </tr>\n",
              "    <tr>\n",
              "      <th>1</th>\n",
              "      <td>A wonderful little production. &lt;br /&gt;&lt;br /&gt;The...</td>\n",
              "      <td>positive</td>\n",
              "    </tr>\n",
              "    <tr>\n",
              "      <th>2</th>\n",
              "      <td>I thought this was a wonderful way to spend ti...</td>\n",
              "      <td>positive</td>\n",
              "    </tr>\n",
              "    <tr>\n",
              "      <th>3</th>\n",
              "      <td>Basically there's a family where a little boy ...</td>\n",
              "      <td>negative</td>\n",
              "    </tr>\n",
              "    <tr>\n",
              "      <th>4</th>\n",
              "      <td>Petter Mattei's \"Love in the Time of Money\" is...</td>\n",
              "      <td>positive</td>\n",
              "    </tr>\n",
              "    <tr>\n",
              "      <th>...</th>\n",
              "      <td>...</td>\n",
              "      <td>...</td>\n",
              "    </tr>\n",
              "    <tr>\n",
              "      <th>6677</th>\n",
              "      <td>First off... I never considered myself an Uwe ...</td>\n",
              "      <td>negative</td>\n",
              "    </tr>\n",
              "    <tr>\n",
              "      <th>6678</th>\n",
              "      <td>STAR RATING: ***** Jodie Marsh **** Michelle M...</td>\n",
              "      <td>negative</td>\n",
              "    </tr>\n",
              "    <tr>\n",
              "      <th>6679</th>\n",
              "      <td>Christopher Nolan had his goals set on Followi...</td>\n",
              "      <td>positive</td>\n",
              "    </tr>\n",
              "    <tr>\n",
              "      <th>6680</th>\n",
              "      <td>\"Freddy's Dead\" did the smartest thing it coul...</td>\n",
              "      <td>negative</td>\n",
              "    </tr>\n",
              "    <tr>\n",
              "      <th>6681</th>\n",
              "      <td>Wow, this movie really sucked down below the n...</td>\n",
              "      <td>negative</td>\n",
              "    </tr>\n",
              "  </tbody>\n",
              "</table>\n",
              "<p>6682 rows × 2 columns</p>\n",
              "</div>"
            ],
            "text/plain": [
              "                                                 review sentiment\n",
              "0     One of the other reviewers has mentioned that ...  positive\n",
              "1     A wonderful little production. <br /><br />The...  positive\n",
              "2     I thought this was a wonderful way to spend ti...  positive\n",
              "3     Basically there's a family where a little boy ...  negative\n",
              "4     Petter Mattei's \"Love in the Time of Money\" is...  positive\n",
              "...                                                 ...       ...\n",
              "6677  First off... I never considered myself an Uwe ...  negative\n",
              "6678  STAR RATING: ***** Jodie Marsh **** Michelle M...  negative\n",
              "6679  Christopher Nolan had his goals set on Followi...  positive\n",
              "6680  \"Freddy's Dead\" did the smartest thing it coul...  negative\n",
              "6681  Wow, this movie really sucked down below the n...  negative\n",
              "\n",
              "[6682 rows x 2 columns]"
            ]
          },
          "metadata": {
            "tags": []
          },
          "execution_count": 46
        }
      ]
    },
    {
      "cell_type": "code",
      "metadata": {
        "id": "SuxrqRr9Hbaf",
        "colab_type": "code",
        "colab": {
          "base_uri": "https://localhost:8080/",
          "height": 173
        },
        "outputId": "6bb4b14e-810d-45c1-891e-f62ea1f550bc"
      },
      "source": [
        "df.info()"
      ],
      "execution_count": 9,
      "outputs": [
        {
          "output_type": "stream",
          "text": [
            "<class 'pandas.core.frame.DataFrame'>\n",
            "RangeIndex: 50000 entries, 0 to 49999\n",
            "Data columns (total 2 columns):\n",
            " #   Column     Non-Null Count  Dtype \n",
            "---  ------     --------------  ----- \n",
            " 0   review     50000 non-null  object\n",
            " 1   sentiment  50000 non-null  object\n",
            "dtypes: object(2)\n",
            "memory usage: 781.4+ KB\n"
          ],
          "name": "stdout"
        }
      ]
    },
    {
      "cell_type": "markdown",
      "metadata": {
        "id": "1NwX_yIgI5pk",
        "colab_type": "text"
      },
      "source": [
        "#MovieReview analysis"
      ]
    },
    {
      "cell_type": "code",
      "metadata": {
        "id": "c8K70O0OIeX1",
        "colab_type": "code",
        "colab": {
          "base_uri": "https://localhost:8080/",
          "height": 300
        },
        "outputId": "d4c8ccd0-dbbf-4c12-8091-74a78b90c30d"
      },
      "source": [
        "sns.countplot(x = \"sentiment\",data = df)"
      ],
      "execution_count": 47,
      "outputs": [
        {
          "output_type": "execute_result",
          "data": {
            "text/plain": [
              "<matplotlib.axes._subplots.AxesSubplot at 0x7f152f0cb978>"
            ]
          },
          "metadata": {
            "tags": []
          },
          "execution_count": 47
        },
        {
          "output_type": "display_data",
          "data": {
            "image/png": "[encoded data removed]",
            "text/plain": [
              "<Figure size 432x288 with 1 Axes>"
            ]
          },
          "metadata": {
            "tags": [],
            "needs_background": "light"
          }
        }
      ]
    },
    {
      "cell_type": "markdown",
      "metadata": {
        "id": "Jl_qHwnmJfyC",
        "colab_type": "text"
      },
      "source": [
        "# Therefore The data is not biased"
      ]
    },
    {
      "cell_type": "code",
      "metadata": {
        "id": "_kLrJE-mI3CG",
        "colab_type": "code",
        "colab": {
          "base_uri": "https://localhost:8080/",
          "height": 69
        },
        "outputId": "d88bd7fd-2693-4f30-f1f7-6937dfbac342"
      },
      "source": [
        "df['sentiment'].value_counts()"
      ],
      "execution_count": 11,
      "outputs": [
        {
          "output_type": "execute_result",
          "data": {
            "text/plain": [
              "positive    25000\n",
              "negative    25000\n",
              "Name: sentiment, dtype: int64"
            ]
          },
          "metadata": {
            "tags": []
          },
          "execution_count": 11
        }
      ]
    },
    {
      "cell_type": "markdown",
      "metadata": {
        "id": "DYYg4DF_dpij",
        "colab_type": "text"
      },
      "source": [
        "# Get dumbies for whether the review is positive or negative"
      ]
    },
    {
      "cell_type": "code",
      "metadata": {
        "id": "blNxPxRPQwk-",
        "colab_type": "code",
        "colab": {}
      },
      "source": [
        "df['review'] = df['review'].fillna(' ')\n",
        "x = df.iloc[:,0].values"
      ],
      "execution_count": 12,
      "outputs": []
    },
    {
      "cell_type": "markdown",
      "metadata": {
        "id": "DnWw4aRpJpKd",
        "colab_type": "text"
      },
      "source": [
        "#splitting tha dataset"
      ]
    },
    {
      "cell_type": "code",
      "metadata": {
        "id": "X6TthCIsJUXX",
        "colab_type": "code",
        "colab": {
          "base_uri": "https://localhost:8080/",
          "height": 34
        },
        "outputId": "e8009d4b-633d-445b-fee0-a914efe99d08"
      },
      "source": [
        "df['binary'] = 1\n",
        "df.loc[df['sentiment'] ==\"negative\",\"binary\"] =0\n",
        "df.loc[df['sentiment']==\"positive\", 'binary'] = 1\n",
        "y = df.iloc[:,2].values\n",
        "y"
      ],
      "execution_count": 13,
      "outputs": [
        {
          "output_type": "execute_result",
          "data": {
            "text/plain": [
              "array([1, 1, 1, ..., 0, 0, 0])"
            ]
          },
          "metadata": {
            "tags": []
          },
          "execution_count": 13
        }
      ]
    },
    {
      "cell_type": "markdown",
      "metadata": {
        "id": "f0iDu4ZPKERa",
        "colab_type": "text"
      },
      "source": [
        "##splittng the dataset into train,test"
      ]
    },
    {
      "cell_type": "code",
      "metadata": {
        "id": "CKR5Qk-kJ9nE",
        "colab_type": "code",
        "colab": {}
      },
      "source": [
        "from sklearn.model_selection import train_test_split\n",
        "x_train,x_test,y_train,y_test  = train_test_split(x,y,test_size = 0.3,random_state = 0)"
      ],
      "execution_count": 14,
      "outputs": []
    },
    {
      "cell_type": "code",
      "metadata": {
        "id": "izdoNpQDKfDq",
        "colab_type": "code",
        "colab": {
          "base_uri": "https://localhost:8080/",
          "height": 34
        },
        "outputId": "80fbef25-ad37-4386-c14c-d5c49a791b8d"
      },
      "source": [
        "x_train.shape"
      ],
      "execution_count": 15,
      "outputs": [
        {
          "output_type": "execute_result",
          "data": {
            "text/plain": [
              "(35000,)"
            ]
          },
          "metadata": {
            "tags": []
          },
          "execution_count": 15
        }
      ]
    },
    {
      "cell_type": "markdown",
      "metadata": {
        "id": "IWnW4cFrKlXS",
        "colab_type": "text"
      },
      "source": [
        "# Implementing sentiment analysis\n"
      ]
    },
    {
      "cell_type": "code",
      "metadata": {
        "id": "Hsh0k2iHKhhM",
        "colab_type": "code",
        "colab": {}
      },
      "source": [
        "from sklearn.pipeline import Pipeline\n",
        "from sklearn.feature_extraction.text import CountVectorizer\n",
        "from sklearn.naive_bayes import MultinomialNB"
      ],
      "execution_count": 16,
      "outputs": []
    },
    {
      "cell_type": "markdown",
      "metadata": {
        "id": "nlCHREm7d712",
        "colab_type": "text"
      },
      "source": [
        "# Implementing countvector on train and test data"
      ]
    },
    {
      "cell_type": "code",
      "metadata": {
        "id": "ZxRrtH1tS0yO",
        "colab_type": "code",
        "colab": {}
      },
      "source": [
        "#count_vector = CountVectorizer(binary= True)\n",
        "#x_train_counts = count_vector.fit_transform(x_train)\n",
        "#x_test_counts = count_vector.transform(x_test)"
      ],
      "execution_count": 17,
      "outputs": []
    },
    {
      "cell_type": "markdown",
      "metadata": {
        "id": "Efp41RUOeHcD",
        "colab_type": "text"
      },
      "source": [
        "# Get tf values for count_vector(train and test)"
      ]
    },
    {
      "cell_type": "markdown",
      "metadata": {
        "id": "X9xOoKG7es9D",
        "colab_type": "text"
      },
      "source": [
        "Train_data"
      ]
    },
    {
      "cell_type": "code",
      "metadata": {
        "id": "jo61y3lkTv0j",
        "colab_type": "code",
        "colab": {}
      },
      "source": [
        "#from sklearn.feature_extraction.text import TfidfTransformer\n",
        "#tf_transformer = TfidfTransformer(use_idf=False).fit(x_train_counts)\n",
        "#x_train_tf = tf_transformer.transform(x_train_counts)\n",
        "#x_train_tf.shape"
      ],
      "execution_count": 18,
      "outputs": []
    },
    {
      "cell_type": "markdown",
      "metadata": {
        "id": "RUjO-FTCevjJ",
        "colab_type": "text"
      },
      "source": [
        "Test_data"
      ]
    },
    {
      "cell_type": "code",
      "metadata": {
        "id": "FwhtXXdpWYz9",
        "colab_type": "code",
        "colab": {}
      },
      "source": [
        "\n",
        "#tf_test_transformer  = TfidfTransformer(use_idf=False).fit(x_test_counts)\n",
        "#x_test_tf = tf_test_transformer.transform(x_test_counts)\n",
        "#x_test_tf.shape"
      ],
      "execution_count": 19,
      "outputs": []
    },
    {
      "cell_type": "markdown",
      "metadata": {
        "id": "QZt6JKOkeUFU",
        "colab_type": "text"
      },
      "source": [
        "# Applying TFIDF values on TF(train and test)"
      ]
    },
    {
      "cell_type": "markdown",
      "metadata": {
        "id": "y3U7EVq8emHD",
        "colab_type": "text"
      },
      "source": [
        "Train_data"
      ]
    },
    {
      "cell_type": "code",
      "metadata": {
        "id": "xJfsU7TKVjjH",
        "colab_type": "code",
        "colab": {}
      },
      "source": [
        "#tfidf_transform = TfidfTransformer()\n",
        "#x_train_tfidf = tfidf_transform.fit_transform(x_train_counts)\n",
        "#x_train_tfidf.shape"
      ],
      "execution_count": 20,
      "outputs": []
    },
    {
      "cell_type": "markdown",
      "metadata": {
        "id": "8EYJEVhcep6H",
        "colab_type": "text"
      },
      "source": [
        "Test_data"
      ]
    },
    {
      "cell_type": "code",
      "metadata": {
        "id": "IYoZ1HybW7r1",
        "colab_type": "code",
        "colab": {}
      },
      "source": [
        "#test_tfidf_transform = TfidfTransformer()\n",
        "#x_test_tfidf = test_tfidf_transform.fit_transform(x_test_counts)\n",
        "#x_test_tfidf.shape"
      ],
      "execution_count": 21,
      "outputs": []
    },
    {
      "cell_type": "markdown",
      "metadata": {
        "id": "-wN_ZVpZez7l",
        "colab_type": "text"
      },
      "source": [
        "#Applying MultinomialNGB on train_tfidf values"
      ]
    },
    {
      "cell_type": "code",
      "metadata": {
        "id": "InUjCJZYqaiM",
        "colab_type": "code",
        "colab": {}
      },
      "source": [
        "from sklearn.feature_extraction.text import TfidfVectorizer\n",
        "Multimodel = Pipeline([('tfidf',TfidfVectorizer(binary = True,max_df=0.611111111111111,norm = 'l2')),(\"Multinomial\",MultinomialNB(alpha = 0.3,class_prior=None, fit_prior=True))])"
      ],
      "execution_count": 22,
      "outputs": []
    },
    {
      "cell_type": "code",
      "metadata": {
        "id": "AQTxTI5bLNGn",
        "colab_type": "code",
        "colab": {
          "base_uri": "https://localhost:8080/",
          "height": 329
        },
        "outputId": "c69f2272-9114-47a9-ed02-3aa077536cde"
      },
      "source": [
        "#model = MultinomialNB(alpha = 0.058,fit_prior=True)\n",
        "Multimodel.fit(x_train,y_train)"
      ],
      "execution_count": 23,
      "outputs": [
        {
          "output_type": "execute_result",
          "data": {
            "text/plain": [
              "Pipeline(memory=None,\n",
              "         steps=[('tfidf',\n",
              "                 TfidfVectorizer(analyzer='word', binary=True,\n",
              "                                 decode_error='strict',\n",
              "                                 dtype=<class 'numpy.float64'>,\n",
              "                                 encoding='utf-8', input='content',\n",
              "                                 lowercase=True, max_df=0.611111111111111,\n",
              "                                 max_features=None, min_df=1,\n",
              "                                 ngram_range=(1, 1), norm='l2',\n",
              "                                 preprocessor=None, smooth_idf=True,\n",
              "                                 stop_words=None, strip_accents=None,\n",
              "                                 sublinear_tf=False,\n",
              "                                 token_pattern='(?u)\\\\b\\\\w\\\\w+\\\\b',\n",
              "                                 tokenizer=None, use_idf=True,\n",
              "                                 vocabulary=None)),\n",
              "                ('Multinomial',\n",
              "                 MultinomialNB(alpha=0.3, class_prior=None, fit_prior=True))],\n",
              "         verbose=False)"
            ]
          },
          "metadata": {
            "tags": []
          },
          "execution_count": 23
        }
      ]
    },
    {
      "cell_type": "markdown",
      "metadata": {
        "id": "m85jw2fyQs5T",
        "colab_type": "text"
      },
      "source": [
        "#predicting the values "
      ]
    },
    {
      "cell_type": "code",
      "metadata": {
        "id": "ChGsvTb0LUbM",
        "colab_type": "code",
        "colab": {
          "base_uri": "https://localhost:8080/",
          "height": 34
        },
        "outputId": "fc304b29-6956-4971-f8b0-b5da42076563"
      },
      "source": [
        "y_pred = Multimodel.predict(x_test)\n",
        "y_pred"
      ],
      "execution_count": 24,
      "outputs": [
        {
          "output_type": "execute_result",
          "data": {
            "text/plain": [
              "array([1, 0, 1, ..., 1, 0, 0])"
            ]
          },
          "metadata": {
            "tags": []
          },
          "execution_count": 24
        }
      ]
    },
    {
      "cell_type": "markdown",
      "metadata": {
        "id": "ldNTyDrsfKa5",
        "colab_type": "text"
      },
      "source": [
        "# Evaluating model Accuracy"
      ]
    },
    {
      "cell_type": "code",
      "metadata": {
        "id": "T-0nwFoPO0XT",
        "colab_type": "code",
        "colab": {}
      },
      "source": [
        "from sklearn.metrics import accuracy_score,confusion_matrix,classification_report,f1_score,recall_score,precision_score"
      ],
      "execution_count": 25,
      "outputs": []
    },
    {
      "cell_type": "code",
      "metadata": {
        "id": "kEtu63pXYYFB",
        "colab_type": "code",
        "colab": {
          "base_uri": "https://localhost:8080/",
          "height": 52
        },
        "outputId": "1668a587-ad0b-4e60-c104-28798d91c419"
      },
      "source": [
        "print(accuracy_score(y_pred,y_test)*100)\n",
        "print(f1_score(y_test,y_pred))"
      ],
      "execution_count": 26,
      "outputs": [
        {
          "output_type": "stream",
          "text": [
            "86.27333333333334\n",
            "0.860661839344928\n"
          ],
          "name": "stdout"
        }
      ]
    },
    {
      "cell_type": "code",
      "metadata": {
        "id": "V_HulMyeYgxL",
        "colab_type": "code",
        "colab": {
          "base_uri": "https://localhost:8080/",
          "height": 52
        },
        "outputId": "8b9d5e5b-d767-451e-9ad9-21208f65fa88"
      },
      "source": [
        "confusion_matrix(y_pred,y_test)"
      ],
      "execution_count": 27,
      "outputs": [
        {
          "output_type": "execute_result",
          "data": {
            "text/plain": [
              "array([[6582, 1101],\n",
              "       [ 958, 6359]])"
            ]
          },
          "metadata": {
            "tags": []
          },
          "execution_count": 27
        }
      ]
    },
    {
      "cell_type": "code",
      "metadata": {
        "id": "96qTkQMVB5ht",
        "colab_type": "code",
        "colab": {
          "base_uri": "https://localhost:8080/",
          "height": 34
        },
        "outputId": "57769786-7fbe-4c5f-ced1-6fe09c28720a"
      },
      "source": [
        "precision_score(y_test,y_pred)"
      ],
      "execution_count": 28,
      "outputs": [
        {
          "output_type": "execute_result",
          "data": {
            "text/plain": [
              "0.8690720240535739"
            ]
          },
          "metadata": {
            "tags": []
          },
          "execution_count": 28
        }
      ]
    },
    {
      "cell_type": "code",
      "metadata": {
        "id": "icsb7hHEfeLF",
        "colab_type": "code",
        "colab": {
          "base_uri": "https://localhost:8080/",
          "height": 173
        },
        "outputId": "6786c73a-7e72-46c3-84aa-19ceba7ecff6"
      },
      "source": [
        "print(classification_report(y_pred,y_test))"
      ],
      "execution_count": 29,
      "outputs": [
        {
          "output_type": "stream",
          "text": [
            "              precision    recall  f1-score   support\n",
            "\n",
            "           0       0.87      0.86      0.86      7683\n",
            "           1       0.85      0.87      0.86      7317\n",
            "\n",
            "    accuracy                           0.86     15000\n",
            "   macro avg       0.86      0.86      0.86     15000\n",
            "weighted avg       0.86      0.86      0.86     15000\n",
            "\n"
          ],
          "name": "stdout"
        }
      ]
    },
    {
      "cell_type": "code",
      "metadata": {
        "id": "WZ-bSxJRfm9b",
        "colab_type": "code",
        "colab": {
          "base_uri": "https://localhost:8080/",
          "height": 34
        },
        "outputId": "d40f9dd2-decd-4e5a-b4af-19897d1b1519"
      },
      "source": [
        "y_pred = Multimodel.predict([\"Basically there's a family where a little boy (Jake) thinks there's a zombie in his closet & his parents are fighting all the time.<br /><br />This movie is slower than a soap opera... and suddenly, Jake decides to become Rambo and kill the zombie.<br /><br />OK, first of all when you're going to make a film you must Decide if its a thriller or a drama! As a drama the movie is watchable. Parents are divorcing & arguing like in real life. And then we have Jake with his closet which totally ruins all the film! I expected to see a BOOGEYMAN similar movie, and instead i watched a drama with some meaningless thriller spots.<br /><br />3 out of 10 just for the well playing parents & descent dialogs. As for the shots with Jake: just ignore them.\"])\n",
        "y_pred"
      ],
      "execution_count": 30,
      "outputs": [
        {
          "output_type": "execute_result",
          "data": {
            "text/plain": [
              "array([0])"
            ]
          },
          "metadata": {
            "tags": []
          },
          "execution_count": 30
        }
      ]
    },
    {
      "cell_type": "code",
      "metadata": {
        "id": "j9tf6GzfTFOF",
        "colab_type": "code",
        "colab": {}
      },
      "source": [
        "from sklearn.model_selection import cross_val_score"
      ],
      "execution_count": 31,
      "outputs": []
    },
    {
      "cell_type": "code",
      "metadata": {
        "id": "UMram3yUjTfB",
        "colab_type": "code",
        "colab": {}
      },
      "source": [
        "tfidf = TfidfVectorizer(max_df=0.611111111111111,norm = 'l2')\n",
        "tfidf_x = tfidf.fit_transform(x)"
      ],
      "execution_count": 32,
      "outputs": []
    },
    {
      "cell_type": "code",
      "metadata": {
        "id": "fo_8ECgNkLtJ",
        "colab_type": "code",
        "colab": {
          "base_uri": "https://localhost:8080/",
          "height": 210
        },
        "outputId": "166e7c08-fef3-4e43-b9d0-7af702f4940d"
      },
      "source": [
        "from sklearn.model_selection import  GridSearchCV\n",
        "parameters = {'alpha':[0.1, 0.2, 0.3, 0.4, 0.5, 0.6, 0.7, 0.8, 0.9, 1.0]}\n",
        "Model2 = MultinomialNB()\n",
        "grid = GridSearchCV(Model2,parameters,cv = 10 ,scoring=\"f1\",iid= True)\n",
        "grid.fit(tfidf_x,y)"
      ],
      "execution_count": 33,
      "outputs": [
        {
          "output_type": "stream",
          "text": [
            "/usr/local/lib/python3.6/dist-packages/sklearn/model_selection/_search.py:823: FutureWarning: The parameter 'iid' is deprecated in 0.22 and will be removed in 0.24.\n",
            "  \"removed in 0.24.\", FutureWarning\n"
          ],
          "name": "stderr"
        },
        {
          "output_type": "execute_result",
          "data": {
            "text/plain": [
              "GridSearchCV(cv=10, error_score=nan,\n",
              "             estimator=MultinomialNB(alpha=1.0, class_prior=None,\n",
              "                                     fit_prior=True),\n",
              "             iid=True, n_jobs=None,\n",
              "             param_grid={'alpha': [0.1, 0.2, 0.3, 0.4, 0.5, 0.6, 0.7, 0.8, 0.9,\n",
              "                                   1.0]},\n",
              "             pre_dispatch='2*n_jobs', refit=True, return_train_score=False,\n",
              "             scoring='f1', verbose=0)"
            ]
          },
          "metadata": {
            "tags": []
          },
          "execution_count": 33
        }
      ]
    },
    {
      "cell_type": "code",
      "metadata": {
        "id": "SY9LrYqLu8Wr",
        "colab_type": "code",
        "colab": {
          "base_uri": "https://localhost:8080/",
          "height": 356
        },
        "outputId": "d894efe1-f077-44da-c9a6-bcc5b96fe5f3"
      },
      "source": [
        "import pandas as pd\n",
        "pd.DataFrame(grid.cv_results_)[['mean_test_score', 'std_test_score', 'params']]"
      ],
      "execution_count": 34,
      "outputs": [
        {
          "output_type": "execute_result",
          "data": {
            "text/html": [
              "<div>\n",
              "<style scoped>\n",
              "    .dataframe tbody tr th:only-of-type {\n",
              "        vertical-align: middle;\n",
              "    }\n",
              "\n",
              "    .dataframe tbody tr th {\n",
              "        vertical-align: top;\n",
              "    }\n",
              "\n",
              "    .dataframe thead th {\n",
              "        text-align: right;\n",
              "    }\n",
              "</style>\n",
              "<table border=\"1\" class=\"dataframe\">\n",
              "  <thead>\n",
              "    <tr style=\"text-align: right;\">\n",
              "      <th></th>\n",
              "      <th>mean_test_score</th>\n",
              "      <th>std_test_score</th>\n",
              "      <th>params</th>\n",
              "    </tr>\n",
              "  </thead>\n",
              "  <tbody>\n",
              "    <tr>\n",
              "      <th>0</th>\n",
              "      <td>0.862549</td>\n",
              "      <td>0.004006</td>\n",
              "      <td>{'alpha': 0.1}</td>\n",
              "    </tr>\n",
              "    <tr>\n",
              "      <th>1</th>\n",
              "      <td>0.864096</td>\n",
              "      <td>0.003592</td>\n",
              "      <td>{'alpha': 0.2}</td>\n",
              "    </tr>\n",
              "    <tr>\n",
              "      <th>2</th>\n",
              "      <td>0.864748</td>\n",
              "      <td>0.003630</td>\n",
              "      <td>{'alpha': 0.3}</td>\n",
              "    </tr>\n",
              "    <tr>\n",
              "      <th>3</th>\n",
              "      <td>0.864514</td>\n",
              "      <td>0.003604</td>\n",
              "      <td>{'alpha': 0.4}</td>\n",
              "    </tr>\n",
              "    <tr>\n",
              "      <th>4</th>\n",
              "      <td>0.864449</td>\n",
              "      <td>0.003497</td>\n",
              "      <td>{'alpha': 0.5}</td>\n",
              "    </tr>\n",
              "    <tr>\n",
              "      <th>5</th>\n",
              "      <td>0.863918</td>\n",
              "      <td>0.003711</td>\n",
              "      <td>{'alpha': 0.6}</td>\n",
              "    </tr>\n",
              "    <tr>\n",
              "      <th>6</th>\n",
              "      <td>0.863750</td>\n",
              "      <td>0.003328</td>\n",
              "      <td>{'alpha': 0.7}</td>\n",
              "    </tr>\n",
              "    <tr>\n",
              "      <th>7</th>\n",
              "      <td>0.863333</td>\n",
              "      <td>0.003018</td>\n",
              "      <td>{'alpha': 0.8}</td>\n",
              "    </tr>\n",
              "    <tr>\n",
              "      <th>8</th>\n",
              "      <td>0.863061</td>\n",
              "      <td>0.002777</td>\n",
              "      <td>{'alpha': 0.9}</td>\n",
              "    </tr>\n",
              "    <tr>\n",
              "      <th>9</th>\n",
              "      <td>0.862961</td>\n",
              "      <td>0.003117</td>\n",
              "      <td>{'alpha': 1.0}</td>\n",
              "    </tr>\n",
              "  </tbody>\n",
              "</table>\n",
              "</div>"
            ],
            "text/plain": [
              "   mean_test_score  std_test_score          params\n",
              "0         0.862549        0.004006  {'alpha': 0.1}\n",
              "1         0.864096        0.003592  {'alpha': 0.2}\n",
              "2         0.864748        0.003630  {'alpha': 0.3}\n",
              "3         0.864514        0.003604  {'alpha': 0.4}\n",
              "4         0.864449        0.003497  {'alpha': 0.5}\n",
              "5         0.863918        0.003711  {'alpha': 0.6}\n",
              "6         0.863750        0.003328  {'alpha': 0.7}\n",
              "7         0.863333        0.003018  {'alpha': 0.8}\n",
              "8         0.863061        0.002777  {'alpha': 0.9}\n",
              "9         0.862961        0.003117  {'alpha': 1.0}"
            ]
          },
          "metadata": {
            "tags": []
          },
          "execution_count": 34
        }
      ]
    },
    {
      "cell_type": "code",
      "metadata": {
        "id": "SBjp3f9FzFto",
        "colab_type": "code",
        "colab": {
          "base_uri": "https://localhost:8080/",
          "height": 69
        },
        "outputId": "8e6e8d08-427e-45ff-a34b-38c35916c536"
      },
      "source": [
        "print(grid.best_score_)\n",
        "print(grid.best_params_)\n",
        "print(grid.best_estimator_)"
      ],
      "execution_count": 35,
      "outputs": [
        {
          "output_type": "stream",
          "text": [
            "0.864748140482373\n",
            "{'alpha': 0.3}\n",
            "MultinomialNB(alpha=0.3, class_prior=None, fit_prior=True)\n"
          ],
          "name": "stdout"
        }
      ]
    }
  ]
}